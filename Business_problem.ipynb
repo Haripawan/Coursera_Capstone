{
 "cells": [
  {
   "attachments": {},
   "cell_type": "markdown",
   "metadata": {},
   "source": [
    "### Business Problem : \n",
    " An established resto-bar owner wants to expand his business by setting up another branch in London. He approaches a data analytics firm where as a data scientist we will help him gain some insights on location preferences and scope out the competition. He would also like to know the existing places in and around London where he can access foot traffic, parking and accessibility.\n",
    "\n",
    "\n",
    "\n",
    "### Data : \n",
    " For the above business problem we will collect the data of all the bars and restaurants in London. The data would contain longitude and latitude information of each location and this can be obtained from foursquare API. This collected data will be used for clustering analysis  to find the density of bars and help the client in finding the right place to set up his new branch of resto-bar."
   ]
  },
  {
   "cell_type": "code",
   "execution_count": null,
   "metadata": {},
   "outputs": [],
   "source": []
  }
 ],
 "metadata": {
  "kernelspec": {
   "display_name": "Python 3",
   "language": "python",
   "name": "python3"
  },
  "language_info": {
   "codemirror_mode": {
    "name": "ipython",
    "version": 3
   },
   "file_extension": ".py",
   "mimetype": "text/x-python",
   "name": "python",
   "nbconvert_exporter": "python",
   "pygments_lexer": "ipython3",
   "version": "3.7.6"
  }
 },
 "nbformat": 4,
 "nbformat_minor": 4
}
